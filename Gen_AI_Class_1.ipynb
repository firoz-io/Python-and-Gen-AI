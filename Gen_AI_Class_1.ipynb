{
  "nbformat": 4,
  "nbformat_minor": 0,
  "metadata": {
    "colab": {
      "provenance": [],
      "include_colab_link": true
    },
    "kernelspec": {
      "name": "python3",
      "display_name": "Python 3"
    },
    "language_info": {
      "name": "python"
    }
  },
  "cells": [
    {
      "cell_type": "markdown",
      "metadata": {
        "id": "view-in-github",
        "colab_type": "text"
      },
      "source": [
        "<a href=\"https://colab.research.google.com/github/firoz-io/Python-and-Gen-AI/blob/main/Gen_AI_Class_1.ipynb\" target=\"_parent\"><img src=\"https://colab.research.google.com/assets/colab-badge.svg\" alt=\"Open In Colab\"/></a>"
      ]
    },
    {
      "cell_type": "markdown",
      "source": [
        "## **Introduction to Programming and Python**"
      ],
      "metadata": {
        "id": "7H2sc6LFbEoL"
      }
    },
    {
      "cell_type": "markdown",
      "source": [
        "### **1. Introduction to Programming**\n",
        "- **What is Programming?**\n",
        "  - Programming is the process of giving instructions to a computer to perform specific tasks.\n",
        "  - Think of it as writing a detailed set of directions that the computer will follow exactly as written.\n",
        "\n",
        "- **Why Learn Python?**\n",
        "  - **Beginner-Friendly:** Python’s syntax is clear and easy to read, making it a great choice for beginners.\n",
        "  - **Versatile:** Python is used across various fields such as web development, data analysis, automation, and more.\n",
        "  - **Automation:** Python can help automate repetitive tasks, making your work more efficient.\n",
        "\n",
        "- **Using Google Colab**\n",
        "  - **What is Google Colab?**\n",
        "    - Google Colab is a free, cloud-based platform where you can write and run Python code in your browser.\n",
        "    - No installation is needed, which makes it convenient and easy to start with.\n",
        "  - **Getting Started with Google Colab:**\n",
        "    - Open [Google Colab](https://colab.research.google.com/).\n",
        "    - You’ll be presented with a notebook interface where you can write and execute Python code directly.\n",
        "    - Google Colab also supports collaboration, allowing you to share your work easily."
      ],
      "metadata": {
        "id": "Sgs5K74hbp5M"
      }
    },
    {
      "cell_type": "markdown",
      "source": [],
      "metadata": {
        "id": "Nhh7MvlBhr1k"
      }
    },
    {
      "cell_type": "markdown",
      "source": [
        "### **2. Overview of Google Colab**\n",
        "\n",
        "### **What is Google Colab?**\n",
        "- **Google Colab** (short for Colaboratory) is a free, cloud-based platform developed by Google that allows you to write and execute Python code directly in your web browser.\n",
        "- It's designed for coding, data analysis, machine learning, and more, making it versatile for various projects.\n",
        "\n",
        "### **Key Features of Google Colab**\n",
        "- **No Installation Needed:** You can start coding without installing Python on your computer. Just open your browser, and you're ready to go.\n",
        "- **Free Access to Powerful Computing Resources:** Google Colab provides free access to GPUs and TPUs (types of processors) that can speed up your computations, especially useful for data-intensive tasks.\n",
        "- **Notebook Interface:** Colab uses a notebook format, meaning you can write code, add explanations, and visualize results all in one place. It’s an interactive document where code and text live together.\n",
        "- **Collaboration:** You can share your Colab notebooks with others, allowing multiple people to work on the same document simultaneously, just like with Google Docs.\n",
        "\n",
        "### **Getting Started with Google Colab**\n",
        "1. **Opening Google Colab:**\n",
        "   - Go to [Google Colab](https://colab.research.google.com/).\n",
        "   - You can either start a new notebook or open an existing one.\n",
        "2. **The Interface:**\n",
        "   - **Code Cells:** Where you write and run your Python code.\n",
        "   - **Text Cells:** Where you can add text, explanations, or headings using Markdown.\n",
        "   - **Output Area:** Displays the results of your code, including text, images, graphs, etc.\n",
        "3. **Running Code:**\n",
        "   - Click on a code cell and press the \"Run\" button (or press `Shift + Enter`) to execute your code.\n",
        "   - The output will appear directly below the code cell.\n",
        "4. **Saving Your Work:**\n",
        "   - Your notebooks are automatically saved in your Google Drive. You can also download them as `.ipynb` files (which can be opened in other Jupyter environments) or as `.py` files (pure Python script).\n",
        "5. **Collaborating:**\n",
        "   - Share your notebook by clicking the \"Share\" button, just like you would with any Google Doc. This allows others to view or edit your notebook.\n",
        "\n",
        "### **Why Use Google Colab?**\n",
        "- **Beginner-Friendly:** Its simple setup and user-friendly interface make it ideal for those just starting with Python.\n",
        "- **Accessible from Anywhere:** Since it’s cloud-based, you can access your work from any device with an internet connection.\n",
        "- **Perfect for Learning:** Google Colab is widely used in online courses and tutorials, making it easier to follow along and practice coding."
      ],
      "metadata": {
        "id": "adDheDNPb7Hp"
      }
    },
    {
      "cell_type": "code",
      "execution_count": 1,
      "metadata": {
        "colab": {
          "base_uri": "https://localhost:8080/"
        },
        "id": "1q2mG64TZqOM",
        "outputId": "e63afc96-650b-42d8-db52-8f3bf7aebfb3"
      },
      "outputs": [
        {
          "output_type": "stream",
          "name": "stdout",
          "text": [
            "Hello World\n"
          ]
        }
      ],
      "source": [
        "# This is a code cell. Here we can write and execute a code\n",
        "\n",
        "print(\"Hello World\")"
      ]
    },
    {
      "cell_type": "markdown",
      "source": [
        "#### **2.1 Introduction to GitHub**\n",
        "\n",
        "### **1. What is GitHub?**\n",
        "- **GitHub** is a web-based platform that hosts Git repositories. It allows you to store and manage your code, collaborate with others, and keep a history of your work online.\n",
        "\n",
        "### **2. Why Use GitHub?**\n",
        "- **Version Control:** Keep track of changes to your files and revert to previous versions if needed.\n",
        "- **Collaboration:** Work with others on the same project, merging changes and reviewing contributions.\n",
        "- **Backup:** Store your notebooks and projects online, ensuring you don’t lose your work.\n",
        "- **Showcase:** Share your projects with others and showcase your work.\n",
        "\n",
        "### **3. Getting Started with GitHub**\n",
        "\n",
        "#### **a. Creating a GitHub Account**\n",
        "1. **Sign Up:** Go to [GitHub](https://github.com/) and click on `Sign up` to create a free account.\n",
        "2. **Verify Email:** Confirm your email address to activate your account.\n",
        "\n",
        "#### **b. Creating a Repository**\n",
        "1. **What is a Repository?**\n",
        "   - A repository (or repo) is where your project files are stored. It includes your code, notebooks, and the history of changes.\n",
        "2. **Create a New Repository:**\n",
        "   - Log in to GitHub and click on the `+` icon in the upper right corner, then select `New repository`.\n",
        "   - Enter a name for your repository and choose its visibility (public or private).\n",
        "   - Click `Create repository`.\n",
        "\n",
        "#### **c. Uploading Google Colab Notebooks to GitHub**\n",
        "1. **Save Notebook to GitHub:**\n",
        "   - In Google Colab, open your notebook.\n",
        "   - Go to `File` > `Save a copy in GitHub`.\n",
        "   - Authenticate with GitHub if prompted.\n",
        "   - Select the repository where you want to save the notebook.\n",
        "   - Provide a commit message (a short description of your changes).\n",
        "   - Click `OK` to upload the notebook.\n",
        "\n",
        "#### **d. Basic GitHub Operations (for Beginners)**\n",
        "1. **View Repositories:**\n",
        "   - Access your repositories from your GitHub profile to view and manage your projects.\n",
        "\n",
        "2. **Fork a Repository:**\n",
        "   - Forking creates a copy of someone else’s repository under your account. Click the `Fork` button on the repository page.\n",
        "\n",
        "3. **Create a Pull Request:**\n",
        "   - When you want to propose changes to a repository, you create a pull request. This lets others review and merge your changes.\n",
        "\n",
        "### **4. Learning More**\n",
        "- **GitHub Docs:** Explore the [GitHub Documentation](https://docs.github.com/en) for detailed guides and tutorials.\n",
        "- **GitHub Learning Lab:** Offers interactive lessons to help you learn how to use GitHub effectively."
      ],
      "metadata": {
        "id": "AizvspSMhvRg"
      }
    },
    {
      "cell_type": "markdown",
      "source": [
        "### **3. Print Statements**\n",
        "\n",
        "- **What is a Print Statement?**\n",
        "  - The `print()` function is one of the most commonly used functions in Python. It allows you to display output on the screen.\n",
        "\n",
        "- **Using the `print()` Function:**\n",
        "  - To display a message or result, you simply use the `print()` function with the content you want to display inside the parentheses.\n",
        "\n",
        "  ```python\n",
        "  print(\"Hello, World!\")\n",
        "  ```\n",
        "\n",
        "  **Output:**\n",
        "  ```\n",
        "  Hello, World!\n",
        "  ```\n",
        "\n",
        "- **Printing Multiple Items:**\n",
        "  - You can print multiple items by separating them with commas. Python automatically adds a space between the items.\n",
        "\n",
        "  ```python\n",
        "  print(\"Welcome to\", \"Python programming!\")\n",
        "  ```\n",
        "\n",
        "  **Output:**\n",
        "  ```\n",
        "  Welcome to Python programming!\n",
        "  ```\n",
        "\n",
        "- **Printing Variables:**\n",
        "  - You can also print the value of variables using `print()`.\n",
        "\n",
        "  ```python\n",
        "  name = \"Alice\"\n",
        "  print(\"Hello,\", name)\n",
        "  ```\n",
        "\n",
        "  **Output:**\n",
        "  ```\n",
        "  Hello, Alice\n",
        "  ```"
      ],
      "metadata": {
        "id": "FySwkAWJcYlm"
      }
    },
    {
      "cell_type": "code",
      "source": [
        "print(\"Hello, World!\")"
      ],
      "metadata": {
        "colab": {
          "base_uri": "https://localhost:8080/"
        },
        "id": "rSdZ2jBfcykN",
        "outputId": "90615764-a1c7-4895-cdcf-04293a3563ed"
      },
      "execution_count": 2,
      "outputs": [
        {
          "output_type": "stream",
          "name": "stdout",
          "text": [
            "Hello, World!\n"
          ]
        }
      ]
    },
    {
      "cell_type": "code",
      "source": [
        "print(\"Welcome to\", \"Python programming!\")"
      ],
      "metadata": {
        "colab": {
          "base_uri": "https://localhost:8080/"
        },
        "id": "3lHIH_AEc4Py",
        "outputId": "e16804f4-52c5-48bb-be93-dc04b6e63604"
      },
      "execution_count": 3,
      "outputs": [
        {
          "output_type": "stream",
          "name": "stdout",
          "text": [
            "Welcome to Python programming!\n"
          ]
        }
      ]
    },
    {
      "cell_type": "code",
      "source": [
        "name = \"Alice\"\n",
        "print(\"Hello,\", name)"
      ],
      "metadata": {
        "colab": {
          "base_uri": "https://localhost:8080/"
        },
        "id": "xnDdKR5Ec8nW",
        "outputId": "514fc17b-1a50-4e42-bdb7-abe677bdaa60"
      },
      "execution_count": 4,
      "outputs": [
        {
          "output_type": "stream",
          "name": "stdout",
          "text": [
            "Hello, Alice\n"
          ]
        }
      ]
    },
    {
      "cell_type": "markdown",
      "source": [],
      "metadata": {
        "id": "lcLUgdF7c35s"
      }
    },
    {
      "cell_type": "markdown",
      "source": [
        "\n",
        "### **4. Comments**\n",
        "\n",
        "- **What are Comments?**\n",
        "  - Comments are lines in your code that are not executed by Python. They are used to explain your code, making it easier for you and others to understand.\n",
        "\n",
        "- **Single-Line Comments:**\n",
        "  - In Python, single-line comments start with the `#` symbol. Everything after `#` on that line is ignored by Python.\n",
        "\n",
        "  ```python\n",
        "  # This is a comment\n",
        "  print(\"This will be printed.\")  # This is an inline comment\n",
        "  ```\n",
        "\n",
        "- **Multi-Line Comments:**\n",
        "  - Although Python doesn’t have a specific syntax for multi-line comments, you can use multiple `#` symbols, or you can use triple quotes (`'''` or `\"\"\"`) for a block of text that won’t be executed.\n",
        "\n",
        "  ```python\n",
        "  # This is a comment\n",
        "  # spread over multiple lines\n",
        "  \"\"\"\n",
        "  This is a block of text\n",
        "  that won't be executed\n",
        "  as code.\n",
        "  \"\"\"\n",
        "  ```\n",
        "\n",
        "### **Why Use Comments?**\n",
        "- **Clarifying Your Code:** Comments make your code easier to read and understand, especially when you or someone else revisits it later.\n",
        "- **Debugging:** Comments can be used to temporarily disable parts of your code while testing or debugging."
      ],
      "metadata": {
        "id": "1cfDchXectef"
      }
    },
    {
      "cell_type": "code",
      "source": [
        "# This is a comment\n",
        "print(\"This will be printed.\")  # This is an inline comment"
      ],
      "metadata": {
        "colab": {
          "base_uri": "https://localhost:8080/"
        },
        "id": "Gi-geeXPdBST",
        "outputId": "c529eba0-b653-45e1-ae02-dd9ff7e151b4"
      },
      "execution_count": 5,
      "outputs": [
        {
          "output_type": "stream",
          "name": "stdout",
          "text": [
            "This will be printed.\n"
          ]
        }
      ]
    },
    {
      "cell_type": "code",
      "source": [
        "# This is a comment\n",
        "# spread over multiple lines\n",
        "'''\n",
        "This is a block of text\n",
        "that won't be executed\n",
        "as code.\n",
        "'''"
      ],
      "metadata": {
        "colab": {
          "base_uri": "https://localhost:8080/",
          "height": 35
        },
        "id": "ZbY9VT9-dLAO",
        "outputId": "37c2af50-0ed9-4cb4-af0d-e18b2abd6232"
      },
      "execution_count": 6,
      "outputs": [
        {
          "output_type": "execute_result",
          "data": {
            "text/plain": [
              "\"\\nThis is a block of text\\nthat won't be executed\\nas code.\\n\""
            ],
            "application/vnd.google.colaboratory.intrinsic+json": {
              "type": "string"
            }
          },
          "metadata": {},
          "execution_count": 6
        }
      ]
    },
    {
      "cell_type": "markdown",
      "source": [
        "## **Variables and Data Types**\n",
        "\n"
      ],
      "metadata": {
        "id": "4FyF2mZldnwG"
      }
    },
    {
      "cell_type": "markdown",
      "source": [
        "### **5. Variables**\n",
        "\n",
        "- **What is a Variable?**\n",
        "  - A variable is a way to store data in your program. Think of it as a container that holds a value, which can be used and modified throughout your code.\n",
        "\n",
        "- **Creating Variables:**\n",
        "  - To create a variable in Python, you simply assign a value to a name using the `=` sign.\n",
        "\n",
        "  ```python\n",
        "  age = 13\n",
        "  pi = 3.14\n",
        "  name = \"Alice\"\n",
        "  ```\n",
        "\n",
        "- **Using Variables:**\n",
        "  - Once a variable is created, you can use it in your code by referring to its name.\n",
        "\n",
        "  ```python\n",
        "  print(age)  # Outputs: 13\n",
        "  print(name)  # Outputs: Alice\n",
        "  ```\n",
        "\n",
        "- **Variable Naming Rules:**\n",
        "  - Variable names must start with a letter or an underscore (`_`).\n",
        "  - They can contain letters, numbers, and underscores but cannot start with a number.\n",
        "  - Variable names are case-sensitive (`Age` and `age` are different)."
      ],
      "metadata": {
        "id": "gBJVhX5Od1a2"
      }
    },
    {
      "cell_type": "code",
      "source": [
        "age = 13\n",
        "pi = 3.14\n",
        "name = \"Alice\""
      ],
      "metadata": {
        "id": "lb8tg6c4ewBD"
      },
      "execution_count": 7,
      "outputs": []
    },
    {
      "cell_type": "code",
      "source": [
        "print(age)  # Outputs: 13\n",
        "print(name)  # Outputs: Alice"
      ],
      "metadata": {
        "colab": {
          "base_uri": "https://localhost:8080/"
        },
        "id": "rrBMDqu6et0b",
        "outputId": "69871cd0-5294-4e68-d89e-abca4c27f418"
      },
      "execution_count": 8,
      "outputs": [
        {
          "output_type": "stream",
          "name": "stdout",
          "text": [
            "13\n",
            "Alice\n"
          ]
        }
      ]
    },
    {
      "cell_type": "markdown",
      "source": [
        "### **6. Data Types**\n",
        "\n",
        "- **What are Data Types?**\n",
        "  - Data types define the kind of data that a variable can hold. Python has several built-in data types, but we'll focus on three basic ones: integers, floats, and strings.\n",
        "\n"
      ],
      "metadata": {
        "id": "COjNBVTZdwmJ"
      }
    },
    {
      "cell_type": "markdown",
      "source": [
        "#### **a. Integers (`int`)**\n",
        "\n",
        "- **Definition:**\n",
        "  - Integers are whole numbers, both positive and negative, without a decimal point.\n",
        "  \n",
        "- **Examples:**\n",
        "  ```python\n",
        "  number_of_apples = 5\n",
        "  temperature = -20\n",
        "  ```\n",
        "  \n",
        "- **Usage:**\n",
        "  - Integers are used when you need to count items, measure something in whole numbers, or perform arithmetic without fractions.\n",
        "\n",
        "  ```python\n",
        "  print(2 + 3)  # Outputs: 5\n",
        "  ```\n",
        "\n"
      ],
      "metadata": {
        "id": "VMSbYQuod87S"
      }
    },
    {
      "cell_type": "code",
      "source": [
        "number_of_apples = 5\n",
        "temperature = -20\n",
        "checking = 'Length'\n",
        "\n",
        "print(len(checking))"
      ],
      "metadata": {
        "id": "x6frywCEeqRR",
        "outputId": "3c89d739-d700-4a2a-e1b0-a881334ff5e2",
        "colab": {
          "base_uri": "https://localhost:8080/"
        }
      },
      "execution_count": 9,
      "outputs": [
        {
          "output_type": "stream",
          "name": "stdout",
          "text": [
            "6\n"
          ]
        }
      ]
    },
    {
      "cell_type": "code",
      "source": [
        "print(2 + 3)  # Outputs: 5"
      ],
      "metadata": {
        "colab": {
          "base_uri": "https://localhost:8080/"
        },
        "id": "JxodlHm5ento",
        "outputId": "cf140e6b-0b6f-412c-8e8d-6b5568b59f32"
      },
      "execution_count": 10,
      "outputs": [
        {
          "output_type": "stream",
          "name": "stdout",
          "text": [
            "5\n"
          ]
        }
      ]
    },
    {
      "cell_type": "markdown",
      "source": [
        "#### **b. Floats (`float`)**\n",
        "\n",
        "- **Definition:**\n",
        "  - Floats are numbers that have a decimal point. They are used for more precise measurements.\n",
        "\n",
        "- **Examples:**\n",
        "  ```python\n",
        "  price = 19.99\n",
        "  weight = 2.5\n",
        "  ```\n",
        "\n",
        "- **Usage:**\n",
        "  - Floats are used when dealing with measurements that require precision, such as distances, weights, or prices.\n",
        "\n",
        "  ```python\n",
        "  print(3.5 * 2)  # Outputs: 7.0\n",
        "  ```\n",
        "\n"
      ],
      "metadata": {
        "id": "GkfvxgDOeBBk"
      }
    },
    {
      "cell_type": "code",
      "source": [
        "price = 19.99\n",
        "weight = 2.5"
      ],
      "metadata": {
        "id": "HSqtsMoDekOB"
      },
      "execution_count": 11,
      "outputs": []
    },
    {
      "cell_type": "code",
      "source": [
        "print(3.5 * 2)  # Outputs: 7.0"
      ],
      "metadata": {
        "colab": {
          "base_uri": "https://localhost:8080/"
        },
        "id": "eZfzyTPNejGL",
        "outputId": "83a2b98d-47fe-48a7-f39d-1e2495208144"
      },
      "execution_count": 12,
      "outputs": [
        {
          "output_type": "stream",
          "name": "stdout",
          "text": [
            "7.0\n"
          ]
        }
      ]
    },
    {
      "cell_type": "markdown",
      "source": [
        "#### **c. Strings (`str`)**\n",
        "\n",
        "- **Definition:**\n",
        "  - Strings are sequences of characters enclosed in single or double quotes. They are used to represent text.\n",
        "\n",
        "- **Examples:**\n",
        "  ```python\n",
        "  greeting = \"Hello, World!\"\n",
        "  username = 'Alice'\n",
        "  ```\n",
        "\n",
        "- **Usage:**\n",
        "  - Strings are used to store words, sentences, or any other textual information.\n",
        "\n",
        "  ```python\n",
        "  print(\"Welcome to Python programming!\")\n",
        "  ```\n",
        "\n"
      ],
      "metadata": {
        "id": "B3xE4GtAeEn5"
      }
    },
    {
      "cell_type": "code",
      "source": [
        "greeting = \"Hello, World!\"\n",
        "username = 'Alice'"
      ],
      "metadata": {
        "id": "yY-EgaQyeeSn"
      },
      "execution_count": 13,
      "outputs": []
    },
    {
      "cell_type": "code",
      "source": [
        "print(\"Welcome to Python programming!\")"
      ],
      "metadata": {
        "colab": {
          "base_uri": "https://localhost:8080/"
        },
        "id": "-jRD_EfRecy7",
        "outputId": "0f5b2106-e169-4770-d1d9-55d07d2d76e0"
      },
      "execution_count": 14,
      "outputs": [
        {
          "output_type": "stream",
          "name": "stdout",
          "text": [
            "Welcome to Python programming!\n"
          ]
        }
      ]
    },
    {
      "cell_type": "markdown",
      "source": [
        "### **7. Checking Data Types**\n",
        "\n",
        "- **Type Checking:**\n",
        "  - You can check the type of a variable using the `type()` function.\n",
        "\n",
        "  ```python\n",
        "  print(type(age))  # Outputs: <class 'int'>\n",
        "  print(type(price))  # Outputs: <class 'float'>\n",
        "  print(type(name))  # Outputs: <class 'str'>\n",
        "  ```\n",
        "\n"
      ],
      "metadata": {
        "id": "oiGc-eMoeIb-"
      }
    },
    {
      "cell_type": "code",
      "source": [
        "print(type(age))  # Outputs: <class 'int'>\n",
        "print(type(price))  # Outputs: <class 'float'>\n",
        "print(type(name))  # Outputs: <class 'str'>"
      ],
      "metadata": {
        "colab": {
          "base_uri": "https://localhost:8080/"
        },
        "id": "sqcuTeCveaYu",
        "outputId": "569d3edf-d886-4df9-c836-ecc932d99ae9"
      },
      "execution_count": 15,
      "outputs": [
        {
          "output_type": "stream",
          "name": "stdout",
          "text": [
            "<class 'int'>\n",
            "<class 'float'>\n",
            "<class 'str'>\n"
          ]
        }
      ]
    },
    {
      "cell_type": "markdown",
      "source": [
        "### **8. Converting Between Data Types**\n",
        "\n",
        "- **Type Conversion:**\n",
        "  - Sometimes, you may need to convert one data type to another. This is called type conversion.\n",
        "\n",
        "  ```python\n",
        "  # Convert integer to string\n",
        "  age_str = str(age)\n",
        "\n",
        "  # Convert string to integer\n",
        "  number = int(\"10\")\n",
        "\n",
        "  # Convert integer to float\n",
        "  float_number = float(5)\n",
        "  ```"
      ],
      "metadata": {
        "id": "Z7iICMTpeMGb"
      }
    },
    {
      "cell_type": "code",
      "source": [
        "from ctypes import string_at\n",
        "# Convert integer to string\n",
        "age_str = str(age)\n",
        "\n",
        "# Convert string to integer\n",
        "number = int(\"10\")\n",
        "\n",
        "# Convert integer to float\n",
        "float_number = float(5)\n",
        "\n",
        "string1 = '35'\n",
        "# string1 = 'Firoz' # cannot convert to num\n",
        "\n",
        "print(string1, type(string1))\n",
        "\n",
        "num1 = int(string1)\n",
        "\n",
        "print(num1, type(num1))\n",
        "\n",
        "float1 = float(num1)\n",
        "\n",
        "print(float1, type(float1))"
      ],
      "metadata": {
        "id": "LF7a7_-7dnYc",
        "outputId": "a430eea0-00e1-4d5b-b950-b3fc74654c20",
        "colab": {
          "base_uri": "https://localhost:8080/"
        }
      },
      "execution_count": 30,
      "outputs": [
        {
          "output_type": "stream",
          "name": "stdout",
          "text": [
            "35 <class 'str'>\n",
            "35 <class 'int'>\n",
            "35.0 <class 'float'>\n"
          ]
        }
      ]
    },
    {
      "cell_type": "markdown",
      "source": [
        "## **Simple Input and Output in Python**\n",
        "\n"
      ],
      "metadata": {
        "id": "Il8lDmRJfOl2"
      }
    },
    {
      "cell_type": "markdown",
      "source": [
        "### **9. Output Using `print()`**\n",
        "\n",
        "- **What is the `print()` Function?**\n",
        "  - The `print()` function is used to display output to the screen. We've already seen how it works with simple text, but it can also be used to display the results of calculations or the content of variables.\n",
        "\n",
        "  ```python\n",
        "  print(\"Welcome to Python!\")\n",
        "  number = 10\n",
        "  print(\"The number is\", number)\n",
        "  ```\n",
        "\n"
      ],
      "metadata": {
        "id": "YUieVJHrfUS-"
      }
    },
    {
      "cell_type": "code",
      "source": [
        "print(\"Welcome to Python!\")\n",
        "number = 10\n",
        "print(\"The number is\", number)"
      ],
      "metadata": {
        "colab": {
          "base_uri": "https://localhost:8080/"
        },
        "id": "h9z4HDfFgI8I",
        "outputId": "e9838272-07a9-42df-b912-dab6b6d83451"
      },
      "execution_count": 17,
      "outputs": [
        {
          "output_type": "stream",
          "name": "stdout",
          "text": [
            "Welcome to Python!\n",
            "The number is 10\n"
          ]
        }
      ]
    },
    {
      "cell_type": "markdown",
      "source": [
        "### **10. Input Using `input()`**\n",
        "\n",
        "- **What is the `input()` Function?**\n",
        "  - The `input()` function is used to get input from the user. When this function is called, the program pauses and waits for the user to type something and press Enter.\n",
        "\n",
        "  ```python\n",
        "  name = input(\"Enter your name: \")\n",
        "  ```\n",
        "\n",
        "  - Whatever the user types is stored as a string in the variable `name`.\n",
        "\n"
      ],
      "metadata": {
        "id": "L5OAY8n2faRF"
      }
    },
    {
      "cell_type": "code",
      "source": [
        "name = input(\"Enter your name: \")\n",
        "print(name)"
      ],
      "metadata": {
        "colab": {
          "base_uri": "https://localhost:8080/"
        },
        "id": "Mgh1GdEDgBiu",
        "outputId": "9a99f8fc-5955-4fa7-fae0-d3ca2ef98b22"
      },
      "execution_count": 18,
      "outputs": [
        {
          "output_type": "stream",
          "name": "stdout",
          "text": [
            "Enter your name: Firoz\n",
            "Firoz\n"
          ]
        }
      ]
    },
    {
      "cell_type": "markdown",
      "source": [
        "### **11. Combining `input()` and `print()`**\n",
        "\n",
        "- **Getting and Displaying User Input:**\n",
        "  - You can combine `input()` and `print()` to create interactive programs that respond to user input.\n",
        "\n",
        "  ```python\n",
        "  name = input(\"What is your name? \")\n",
        "  print(\"Hello,\", name + \"!\")\n",
        "  ```\n",
        "\n",
        "  **Example Interaction:**\n",
        "  ```\n",
        "  What is your name? Alice\n",
        "  Hello, Alice!\n",
        "  ```\n",
        "\n",
        "- **Working with Numbers:**\n",
        "  - If you want to work with numbers (like integers or floats), you need to convert the input, since `input()` always returns a string.\n",
        "\n",
        "  ```python\n",
        "  age = input(\"How old are you? \")\n",
        "  print(\"You are\", age, \"years old.\")\n",
        "  ```\n",
        "\n",
        "  - To perform calculations, convert the input to an integer or float:\n",
        "\n",
        "  ```python\n",
        "  age = int(input(\"How old are you? \"))\n",
        "  print(\"Next year, you will be\", age + 1, \"years old.\")\n",
        "  ```\n",
        "\n",
        "  **Example Interaction:**\n",
        "  ```\n",
        "  How old are you? 13\n",
        "  Next year, you will be 14 years old.\n",
        "  ```\n",
        "\n"
      ],
      "metadata": {
        "id": "7kwMASvRffE2"
      }
    },
    {
      "cell_type": "code",
      "source": [
        "age = input(\"How old are you? \")\n",
        "print(\"You are\", age, \"years old.\")"
      ],
      "metadata": {
        "colab": {
          "base_uri": "https://localhost:8080/"
        },
        "id": "JPk2O18Gfz4-",
        "outputId": "769b77e2-7590-4232-9291-e34fa57f58c1"
      },
      "execution_count": 19,
      "outputs": [
        {
          "output_type": "stream",
          "name": "stdout",
          "text": [
            "How old are you? 27\n",
            "You are 27 years old.\n"
          ]
        }
      ]
    },
    {
      "cell_type": "code",
      "source": [
        "age = int(input(\"How old are you? \"))\n",
        "print(\"Next year, you will be\", age + 1, \"years old.\")"
      ],
      "metadata": {
        "colab": {
          "base_uri": "https://localhost:8080/"
        },
        "id": "HwLj4Td0ftLJ",
        "outputId": "9f78c3bb-d145-4c1c-cc04-df8c1728c663"
      },
      "execution_count": 20,
      "outputs": [
        {
          "output_type": "stream",
          "name": "stdout",
          "text": [
            "How old are you? 27\n",
            "Next year, you will be 28 years old.\n"
          ]
        }
      ]
    },
    {
      "cell_type": "markdown",
      "source": [
        "### **12. Example: Simple Calculator**\n",
        "\n",
        "- **Creating a Simple Calculator:**\n",
        "  - Let's make a basic calculator that asks the user for two numbers and then adds them together.\n",
        "\n",
        "  ```python\n",
        "  number1 = float(input(\"Enter the first number: \"))\n",
        "  number2 = float(input(\"Enter the second number: \"))\n",
        "  result = number1 + number2\n",
        "  print(\"The sum of the two numbers is:\", result)\n",
        "  ```\n",
        "\n",
        "  **Example Interaction:**\n",
        "  ```\n",
        "  Enter the first number: 5.2\n",
        "  Enter the second number: 3.8\n",
        "  The sum of the two numbers is: 9.0\n",
        "  ```"
      ],
      "metadata": {
        "id": "CHMVojipfjK9"
      }
    },
    {
      "cell_type": "code",
      "source": [
        "number1 = float(input(\"Enter the first number: \"))\n",
        "number2 = float(input(\"Enter the second number: \"))\n",
        "result = number1 + number2\n",
        "print(\"The sum of the two numbers is:\", result)"
      ],
      "metadata": {
        "colab": {
          "base_uri": "https://localhost:8080/"
        },
        "id": "0GPwJYXSflef",
        "outputId": "33f7208a-0d33-4449-82ea-748de1d07a02"
      },
      "execution_count": 21,
      "outputs": [
        {
          "output_type": "stream",
          "name": "stdout",
          "text": [
            "Enter the first number: 5.2\n",
            "Enter the second number: 3.8\n",
            "The sum of the two numbers is: 9.0\n"
          ]
        }
      ]
    },
    {
      "cell_type": "markdown",
      "source": [
        "## **Class 1 Conclusion**\n",
        "\n",
        "In today's class, we took our first steps into the world of programming with Python. Here's a quick recap of what we learned:\n",
        "\n",
        "1. **Introduction to Programming:**\n",
        "   - Programming involves giving instructions to a computer to perform specific tasks.\n",
        "   - Python is a great language for beginners due to its simple and readable syntax.\n",
        "\n",
        "2. **Overview of Google Colab:**\n",
        "   - Google Colab is a cloud-based platform that allows you to write and run Python code directly in your browser without any installation.\n",
        "   - It’s user-friendly and perfect for learning Python.\n",
        "\n",
        "3. **Basic Syntax:**\n",
        "   - We explored the `print()` function, which is used to display output on the screen.\n",
        "   - We also covered how to use comments (`#`) to add explanations in our code, making it easier to understand.\n",
        "\n",
        "4. **Variables and Data Types:**\n",
        "   - Variables are containers for storing data, and they can hold different types of values:\n",
        "     - **Integers** for whole numbers.\n",
        "     - **Floats** for numbers with decimal points.\n",
        "     - **Strings** for text.\n",
        "\n",
        "5. **Simple Input and Output:**\n",
        "   - The `input()` function allows us to get input from the user, while the `print()` function displays output.\n",
        "   - We also learned how to combine these functions to create interactive programs that respond to user input.\n",
        "\n",
        "With these foundational concepts, you’re now equipped to start writing simple Python programs and exploring the possibilities of what you can create!"
      ],
      "metadata": {
        "id": "8zZZmWRPgbeh"
      }
    },
    {
      "cell_type": "markdown",
      "source": [
        "## **Class 1 Assignments**\n",
        "\n",
        "### **Assignment 1: Practicing `print()` Statements**\n",
        "1. **Task:** Write a Python program that prints the following:\n",
        "   - Your full name.\n",
        "   - Your favorite hobby.\n",
        "   - The number of hours you spend on your hobby each week.\n",
        "\n",
        "   **Example Output:**\n",
        "   ```\n",
        "   John Doe\n",
        "   Reading\n",
        "   5\n",
        "   ```\n",
        "\n",
        "### **Assignment 2: Working with Variables**\n",
        "1. **Task:** Create variables to store the following information:\n",
        "   - Your name.\n",
        "   - Your age.\n",
        "   - Your favorite color.\n",
        "   - Print a sentence that includes all this information.\n",
        "\n",
        "   **Example Output:**\n",
        "   ```\n",
        "   My name is John Doe, I am 25 years old, and my favorite color is blue.\n",
        "   ```\n",
        "\n",
        "### **Assignment 3: Simple Input and Output**\n",
        "1. **Task:** Write a program that asks the user for their:\n",
        "   - First name.\n",
        "   - Last name.\n",
        "   - Age.\n",
        "   - Then, print a greeting message that includes their full name and how old they will be next year.\n",
        "\n",
        "   **Example Interaction:**\n",
        "   ```\n",
        "   Enter your first name: John\n",
        "   Enter your last name: Doe\n",
        "   Enter your age: 25\n",
        "   Hello, John Doe! Next year, you will be 26 years old.\n",
        "   ```\n",
        "\n",
        "### **Assignment 4: Basic Arithmetic**\n",
        "1. **Task:** Write a program that:\n",
        "   - Asks the user to enter two numbers.\n",
        "   - Stores these numbers in variables.\n",
        "   - Calculates and prints the sum, difference, product, and quotient of the two numbers.\n",
        "\n",
        "   **Example Interaction:**\n",
        "   ```\n",
        "   Enter the first number: 8\n",
        "   Enter the second number: 2\n",
        "   Sum: 10\n",
        "   Difference: 6\n",
        "   Product: 16\n",
        "   Quotient: 4.0\n",
        "   ```\n",
        "\n",
        "### **Assignment 5: Combining Strings and Numbers**\n",
        "1. **Task:** Write a program that:\n",
        "   - Asks the user for their name and their favorite number.\n",
        "   - Prints a message that says, \"Hello, [name]! Did you know that [favorite number] times 2 is [result]?\"\n",
        "\n",
        "   **Example Interaction:**\n",
        "   ```\n",
        "   Enter your name: Alice\n",
        "   Enter your favorite number: 7\n",
        "   Hello, Alice! Did you know that 7 times 2 is 14?\n",
        "   ```"
      ],
      "metadata": {
        "id": "VjPPv41ugs8m"
      }
    },
    {
      "cell_type": "markdown",
      "source": [
        "## **Solutions for Class 1 Assignments**\n",
        "\n",
        "### **Assignment 1: Practicing `print()` Statements**\n",
        "\n",
        "**Task:** Write a Python program that prints your full name, favorite hobby, and the number of hours you spend on your hobby each week.\n",
        "\n",
        "```python\n",
        "# Solution\n",
        "print(\"John Doe\")\n",
        "print(\"Reading\")\n",
        "print(5)\n",
        "```\n",
        "\n",
        "### **Assignment 2: Working with Variables**\n",
        "\n",
        "**Task:** Create variables to store your name, age, and favorite color, then print a sentence with this information.\n",
        "\n",
        "```python\n",
        "# Solution\n",
        "name = \"John Doe\"\n",
        "age = 25\n",
        "favorite_color = \"blue\"\n",
        "\n",
        "print(\"My name is\", name + \",\", \"I am\", age, \"years old, and my favorite color is\", favorite_color + \".\")\n",
        "```\n",
        "\n",
        "### **Assignment 3: Simple Input and Output**\n",
        "\n",
        "**Task:** Write a program that asks for the user's first name, last name, and age, then prints a greeting message.\n",
        "\n",
        "```python\n",
        "# Solution\n",
        "first_name = input(\"Enter your first name: \")\n",
        "last_name = input(\"Enter your last name: \")\n",
        "age = int(input(\"Enter your age: \"))\n",
        "\n",
        "print(\"Hello,\", first_name, last_name + \"!\", \"Next year, you will be\", age + 1, \"years old.\")\n",
        "```\n",
        "\n",
        "### **Assignment 4: Basic Arithmetic**\n",
        "\n",
        "**Task:** Write a program that asks for two numbers and calculates the sum, difference, product, and quotient.\n",
        "\n",
        "```python\n",
        "# Solution\n",
        "number1 = float(input(\"Enter the first number: \"))\n",
        "number2 = float(input(\"Enter the second number: \"))\n",
        "\n",
        "sum_result = number1 + number2\n",
        "difference = number1 - number2\n",
        "product = number1 * number2\n",
        "quotient = number1 / number2\n",
        "\n",
        "print(\"Sum:\", sum_result)\n",
        "print(\"Difference:\", difference)\n",
        "print(\"Product:\", product)\n",
        "print(\"Quotient:\", quotient)\n",
        "```\n",
        "\n",
        "### **Assignment 5: Combining Strings and Numbers**\n",
        "\n",
        "**Task:** Write a program that asks for the user's name and favorite number, then prints a custom message.\n",
        "\n",
        "```python\n",
        "# Solution\n",
        "name = input(\"Enter your name: \")\n",
        "favorite_number = int(input(\"Enter your favorite number: \"))\n",
        "\n",
        "result = favorite_number * 2\n",
        "\n",
        "print(\"Hello,\", name + \"!\", \"Did you know that\", favorite_number, \"times 2 is\", result, \"?\")\n",
        "```"
      ],
      "metadata": {
        "id": "W_jCmpO2gx6T"
      }
    }
  ]
}